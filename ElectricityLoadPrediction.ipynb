{
  "cells": [
    {
      "cell_type": "markdown",
      "metadata": {},
      "source": [
        "\n",
        "https://towardsdatascience.com/7-ways-to-handle-missing-values-in-machine-learning-1a6326adf79e\n",
        "https://www.cienciadedatos.net/documentos/py29-forecasting-electricity-power-demand-python.html"
      ]
    },
    {
      "cell_type": "code",
      "execution_count": null,
      "metadata": {
        "id": "NaOQV-CetrIg"
      },
      "outputs": [],
      "source": [
        "import pandas as pd\n",
        "import numpy as np\n",
        "import matplotlib.pyplot as plt\n",
        "import seaborn as sns\n",
        "import tensorflow as tf\n",
        "from tensorflow.keras.models import Sequential\n",
        "from tensorflow.keras.layers import LSTM\n",
        "from tensorflow.keras.layers import Dense\n",
        "from keras.layers import Dropout\n",
        "from sklearn.preprocessing import StandardScaler, MinMaxScaler\n",
        "import math\n",
        "from sklearn.metrics import mean_squared_error\n",
        "from google.colab import files"
      ]
    },
    {
      "cell_type": "code",
      "execution_count": null,
      "metadata": {
        "colab": {
          "base_uri": "https://localhost:8080/"
        },
        "id": "riuLxa9Dz9PN",
        "outputId": "84bedf80-bbcc-4202-f30d-cf59ac381e9e"
      },
      "outputs": [
        {
          "name": "stdout",
          "output_type": "stream",
          "text": [
            "fatal: destination path 'mlpInternshipAss' already exists and is not an empty directory.\n"
          ]
        }
      ],
      "source": [
        "!git clone https://github.com/Ashutosh-Vermaa/mlpInternshipAss.git"
      ]
    },
    {
      "cell_type": "code",
      "execution_count": null,
      "metadata": {
        "id": "7QXt-h_N0A25"
      },
      "outputs": [],
      "source": [
        "data= pd.read_csv(\"/content/mlpInternshipAss/MLInternshipAssignmentData.csv\")"
      ]
    },
    {
      "cell_type": "code",
      "execution_count": null,
      "metadata": {
        "id": "CqM4pOZBbowF"
      },
      "outputs": [],
      "source": [
        "def print_summary(title, value):\n",
        "    print('-' * 80, title, '-' * 80, value, sep='\\n')\n",
        "\n",
        "def summarize_dataframe(frame):\n",
        "    print_summary('Dataset Summary', frame.describe())\n",
        "    print_summary('Null Values Count', frame.isnull().sum())\n",
        "    # print_summary('Zero Values Count', frame.isnull().sum())\n",
        "\n",
        "    # Iterate over each column of a data frame & print its summary\n",
        "    for col in frame:\n",
        "        print_summary(f'Unique values in column \"{col}\"', frame[col].unique())\n",
        "        print_summary(f'Number of Zeros in Column \"{col}\"', (frame[col] == 0).sum())"
      ]
    },
    {
      "cell_type": "code",
      "execution_count": null,
      "metadata": {
        "id": "hAGgUDjCbsgu"
      },
      "outputs": [],
      "source": [
        "summarize_dataframe(data)"
      ]
    },
    {
      "cell_type": "code",
      "execution_count": null,
      "metadata": {
        "id": "y1ze9nKSbvk-"
      },
      "outputs": [],
      "source": [
        "data = data.drop(columns='date')"
      ]
    },
    {
      "cell_type": "code",
      "execution_count": null,
      "metadata": {
        "id": "9E-SUSfN0Cyw"
      },
      "outputs": [],
      "source": [
        "#removing all the zeros with nan so that those can be interpolated\n",
        "data['wind_speed']=data['wind_speed'].replace(0, np.nan)\n",
        "data['cloud_cover']=data['cloud_cover'].replace(0, np.nan)"
      ]
    },
    {
      "cell_type": "code",
      "execution_count": null,
      "metadata": {
        "id": "OtIEwWQD0MXF"
      },
      "outputs": [],
      "source": [
        "#Interpolating the wind_speed and cloud_cover columns for missing values\n",
        "data[\"wind_speed\"] = data[\"wind_speed\"].interpolate(method='linear', limit_direction='both', axis=0)\n",
        "data[\"cloud_cover\"] = data[\"cloud_cover\"].interpolate(method='linear', limit_direction='both', axis=0)"
      ]
    },
    {
      "cell_type": "code",
      "execution_count": null,
      "metadata": {
        "id": "cmZD2chL0PHd"
      },
      "outputs": [],
      "source": [
        "#taking the rows with null values in load column as test data to predict load\n",
        "test_set=data[data['load'].isna()]\n",
        "train_set= data[data['load'].notnull()]"
      ]
    },
    {
      "cell_type": "code",
      "execution_count": null,
      "metadata": {
        "id": "UvOGgJgb1R9K"
      },
      "outputs": [],
      "source": [
        "test_set.columns"
      ]
    },
    {
      "cell_type": "code",
      "execution_count": null,
      "metadata": {
        "id": "cX5Z0iXvwPK5"
      },
      "outputs": [],
      "source": [
        "#Data for 14th december 2020\n",
        "task1_test_set= test_set.loc[test_set['Unnamed: 0']>=103488]\n",
        "dateTime1=task1_test_set['datetime'][:1536]"
      ]
    },
    {
      "cell_type": "code",
      "execution_count": null,
      "metadata": {
        "id": "IjE12HHl0dAi"
      },
      "outputs": [],
      "source": [
        "#setting datetime as index for the train_set\n",
        "train_set = train_set.set_index(\"datetime\")\n",
        "train_set.index = pd.to_datetime(train_set.index)"
      ]
    },
    {
      "cell_type": "code",
      "execution_count": null,
      "metadata": {
        "id": "wck4OW2l0iL9"
      },
      "outputs": [],
      "source": [
        "dateTime= test_set['datetime'][:1536]\n",
        "test_set = test_set.set_index(\"datetime\")\n",
        "test_set.index = pd.to_datetime(test_set.index)"
      ]
    },
    {
      "cell_type": "code",
      "execution_count": null,
      "metadata": {
        "id": "81TF1nPM0zed"
      },
      "outputs": [],
      "source": [
        "data['datetime'] = pd.to_datetime(data['datetime'])\n",
        "data = data.set_index(\"datetime\")"
      ]
    },
    {
      "cell_type": "code",
      "execution_count": null,
      "metadata": {
        "id": "H9hyayVW0QWl"
      },
      "outputs": [],
      "source": [
        "plt.figure(figsize=(16,10))\n",
        "plt.plot(data['datetime'], data['load'])\n",
        "plt.ylabel(\"load\", fontsize=20)\n",
        "plt.xticks(fontsize=20)\n",
        "plt.yticks(fontsize=20)\n",
        "plt.title('Power Consumption ',fontsize=20)"
      ]
    },
    {
      "cell_type": "code",
      "execution_count": null,
      "metadata": {
        "id": "MmvlxrB53E78"
      },
      "outputs": [],
      "source": [
        "#scaling the load values\n",
        "scaler=StandardScaler()\n",
        "scaler = scaler.fit(train_set[['load']])\n",
        "\n",
        "train_set['load'] = scaler.transform(train_set[['load']])\n",
        "test_set['load'] = scaler.transform(test_set[['load']])\n",
        "#using previous 96 values for the output\n",
        "last_n = 96"
      ]
    },
    {
      "cell_type": "code",
      "execution_count": null,
      "metadata": {
        "id": "MJ0_Djgk3V_9"
      },
      "outputs": [],
      "source": [
        "#function for obtaining the x and y values to be used as train and test dataset respectively\n",
        "def to_sequences(x, y, seq_size=1):\n",
        "    x_values = []\n",
        "    y_values = []\n",
        "    for i in range(len(x)-last_n):\n",
        "        x_values.append(x.iloc[i:(i+last_n)].values)\n",
        "        y_values.append(y.iloc[i+last_n])\n",
        "    return np.array(x_values), np.array(y_values)"
      ]
    },
    {
      "cell_type": "code",
      "execution_count": null,
      "metadata": {
        "colab": {
          "base_uri": "https://localhost:8080/"
        },
        "id": "WrfFYDzeBw5S",
        "outputId": "f29a9ad3-03ee-4c0f-8b44-03b545aa9d24"
      },
      "outputs": [
        {
          "name": "stdout",
          "output_type": "stream",
          "text": [
            "<class 'pandas.core.frame.DataFrame'>\n",
            "DatetimeIndex: 101952 entries, 2018-01-01 00:00:00 to 2020-12-12 23:45:00\n",
            "Data columns (total 8 columns):\n",
            " #   Column                Non-Null Count   Dtype  \n",
            "---  ------                --------------   -----  \n",
            " 0   Unnamed: 0            101952 non-null  int64  \n",
            " 1   load                  101952 non-null  float64\n",
            " 2   apparent_temperature  101952 non-null  float64\n",
            " 3   temperature           101952 non-null  float64\n",
            " 4   humidity              101952 non-null  float64\n",
            " 5   dew_point             101952 non-null  float64\n",
            " 6   wind_speed            101952 non-null  float64\n",
            " 7   cloud_cover           101952 non-null  float64\n",
            "dtypes: float64(7), int64(1)\n",
            "memory usage: 7.0 MB\n"
          ]
        }
      ],
      "source": [
        "train_set.info()"
      ]
    },
    {
      "cell_type": "code",
      "execution_count": null,
      "metadata": {
        "id": "fvvqPQ3s3ct6"
      },
      "outputs": [],
      "source": [
        "\n",
        "x_train, y_train = to_sequences(train_set[['apparent_temperature',\"temperature\",\t'humidity', 'dew_point', 'wind_speed', \"cloud_cover\"]], train_set['load'], last_n)\n",
        "x_test, y_test = to_sequences(test_set[['apparent_temperature',\"temperature\",\t'humidity', 'dew_point', 'wind_speed', \"cloud_cover\"]], test_set['load'], last_n)"
      ]
    },
    {
      "cell_type": "code",
      "execution_count": null,
      "metadata": {
        "id": "YJmNcubqRST4"
      },
      "outputs": [],
      "source": []
    },
    {
      "cell_type": "code",
      "execution_count": null,
      "metadata": {
        "id": "nytB_zqjy1ud"
      },
      "outputs": [],
      "source": [
        "(x_test)"
      ]
    },
    {
      "cell_type": "code",
      "execution_count": null,
      "metadata": {
        "id": "QV3jlxUeEPWS"
      },
      "outputs": [],
      "source": []
    },
    {
      "cell_type": "code",
      "execution_count": null,
      "metadata": {
        "colab": {
          "base_uri": "https://localhost:8080/"
        },
        "id": "Yc-QJKBX3eqx",
        "outputId": "1efba327-ac45-4c72-e2f6-7865b775b01e"
      },
      "outputs": [
        {
          "name": "stdout",
          "output_type": "stream",
          "text": [
            "Model: \"sequential\"\n",
            "_________________________________________________________________\n",
            " Layer (type)                Output Shape              Param #   \n",
            "=================================================================\n",
            " lstm (LSTM)                 (None, 96, 380)           588240    \n",
            "                                                                 \n",
            " dropout (Dropout)           (None, 96, 380)           0         \n",
            "                                                                 \n",
            " lstm_1 (LSTM)               (None, 96, 190)           433960    \n",
            "                                                                 \n",
            " dropout_1 (Dropout)         (None, 96, 190)           0         \n",
            "                                                                 \n",
            " lstm_2 (LSTM)               (None, 96, 100)           116400    \n",
            "                                                                 \n",
            " lstm_3 (LSTM)               (None, 96, 50)            30200     \n",
            "                                                                 \n",
            " lstm_4 (LSTM)               (None, 16)                4288      \n",
            "                                                                 \n",
            " dense (Dense)               (None, 1)                 17        \n",
            "                                                                 \n",
            "=================================================================\n",
            "Total params: 1,173,105\n",
            "Trainable params: 1,173,105\n",
            "Non-trainable params: 0\n",
            "_________________________________________________________________\n"
          ]
        }
      ],
      "source": [
        "#using the LSTM model to predict the load\n",
        "model=Sequential()\n",
        "model.add(LSTM(380,return_sequences=True,input_shape=(last_n,6)))\n",
        "model.add(Dropout(0.2))\n",
        "model.add(LSTM(190,return_sequences=True))\n",
        "model.add(Dropout(0.2))\n",
        "model.add(LSTM(100,return_sequences=True))\n",
        "# model.add(Dropout(0.3))\n",
        "model.add(LSTM(50,return_sequences=True))\n",
        "# model.add(LSTM(32, return_sequences=True))\n",
        "model.add(LSTM(16))\n",
        "model.add(Dense(1))\n",
        "model.compile(loss='mean_squared_error',optimizer='adam',run_eagerly=True)\n",
        "model.summary()"
      ]
    },
    {
      "cell_type": "code",
      "execution_count": null,
      "metadata": {
        "id": "SjVVrz-_wO0g"
      },
      "outputs": [],
      "source": [
        "#using callback to prevent overfitting by stopping the training process when the val_loss doesn't improve over 5 epochs\n",
        "callback= tf.keras.callbacks.EarlyStopping(\n",
        "    monitor=\"val_loss\",\n",
        "    min_delta=0,\n",
        "    patience=5,\n",
        "    verbose=0,\n",
        "    mode=\"min\",\n",
        "    baseline=None,\n",
        "    restore_best_weights=True\n",
        ")"
      ]
    },
    {
      "cell_type": "code",
      "execution_count": null,
      "metadata": {
        "colab": {
          "base_uri": "https://localhost:8080/"
        },
        "id": "WiT5rW943i8W",
        "outputId": "d7e01406-652a-4aa8-da75-89427c847dbd"
      },
      "outputs": [
        {
          "name": "stdout",
          "output_type": "stream",
          "text": [
            "Epoch 1/32\n",
            "459/459 [==============================] - 102s 214ms/step - loss: 0.1842 - val_loss: 0.1541\n",
            "Epoch 2/32\n",
            "459/459 [==============================] - 97s 211ms/step - loss: 0.1216 - val_loss: 0.1182\n",
            "Epoch 3/32\n",
            "459/459 [==============================] - 100s 218ms/step - loss: 0.0929 - val_loss: 0.1244\n",
            "Epoch 4/32\n",
            "459/459 [==============================] - 98s 213ms/step - loss: 0.0752 - val_loss: 0.1266\n",
            "Epoch 5/32\n",
            "459/459 [==============================] - 105s 229ms/step - loss: 0.0597 - val_loss: 0.1224\n",
            "Epoch 6/32\n",
            "459/459 [==============================] - 98s 213ms/step - loss: 0.0442 - val_loss: 0.1520\n",
            "Epoch 7/32\n",
            "459/459 [==============================] - 99s 216ms/step - loss: 0.0336 - val_loss: 0.1272\n"
          ]
        }
      ],
      "source": [
        "history = model.fit(x_train, y_train, epochs=32, batch_size=200, callbacks=[callback], validation_split=0.1)"
      ]
    },
    {
      "cell_type": "code",
      "execution_count": null,
      "metadata": {
        "id": "i6VVL7893l8E"
      },
      "outputs": [],
      "source": [
        "plt.plot(history.history['loss'], label='Training loss')\n",
        "plt.plot(history.history['val_loss'], label='Validation loss')\n",
        "plt.legend()  "
      ]
    },
    {
      "cell_type": "code",
      "execution_count": null,
      "metadata": {
        "id": "oF1T3GKB5Pw0"
      },
      "outputs": [],
      "source": [
        "#TASK 2- forecasting load for the rows where load values are NaN.\n",
        "# train_predict = model.predict(x_train)\n",
        "test_predict  = model.predict(x_test)\n",
        "\n",
        "# predict_train = scaler.inverse_transform(train_predict)\n",
        "predict_test  = scaler.inverse_transform(test_predict)"
      ]
    },
    {
      "cell_type": "code",
      "execution_count": null,
      "metadata": {
        "id": "XYvdorvkwol9"
      },
      "outputs": [],
      "source": [
        "obt= pd.DataFrame(dateTime)\n",
        "obt['load']=predict_test"
      ]
    },
    {
      "cell_type": "code",
      "execution_count": null,
      "metadata": {
        "id": "f7R6slfksR14"
      },
      "outputs": [],
      "source": [
        "obt.to_csv('task2.csv', encoding = 'utf-8-sig') \n",
        "files.download('task2.csv')"
      ]
    }
  ],
  "metadata": {
    "accelerator": "GPU",
    "colab": {
      "collapsed_sections": [],
      "name": "MLInternship.ipynb",
      "provenance": []
    },
    "kernelspec": {
      "display_name": "Python 3",
      "name": "python3"
    },
    "language_info": {
      "name": "python"
    }
  },
  "nbformat": 4,
  "nbformat_minor": 0
}
